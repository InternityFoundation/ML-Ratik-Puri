{
 "cells": [
  {
   "cell_type": "code",
   "execution_count": 1,
   "metadata": {},
   "outputs": [
    {
     "name": "stderr",
     "output_type": "stream",
     "text": [
      "C:\\Users\\Ratik\\Anaconda3\\lib\\site-packages\\h5py\\__init__.py:36: FutureWarning: Conversion of the second argument of issubdtype from `float` to `np.floating` is deprecated. In future, it will be treated as `np.float64 == np.dtype(float).type`.\n",
      "  from ._conv import register_converters as _register_converters\n"
     ]
    }
   ],
   "source": [
    "import tensorflow as tf\n",
    "import matplotlib.pyplot as plt\n",
    "import numpy as np"
   ]
  },
  {
   "cell_type": "code",
   "execution_count": 2,
   "metadata": {},
   "outputs": [
    {
     "name": "stderr",
     "output_type": "stream",
     "text": [
      "Using TensorFlow backend.\n"
     ]
    }
   ],
   "source": [
    "import keras"
   ]
  },
  {
   "cell_type": "code",
   "execution_count": 3,
   "metadata": {},
   "outputs": [],
   "source": [
    "(images_train,cls_train),(images_test,cls_test)=keras.datasets.cifar10.load_data()"
   ]
  },
  {
   "cell_type": "code",
   "execution_count": 4,
   "metadata": {},
   "outputs": [
    {
     "data": {
      "text/plain": [
       "((50000, 32, 32, 3), (50000, 1))"
      ]
     },
     "execution_count": 4,
     "metadata": {},
     "output_type": "execute_result"
    }
   ],
   "source": [
    "images_train.shape,cls_train.shape"
   ]
  },
  {
   "cell_type": "code",
   "execution_count": 5,
   "metadata": {},
   "outputs": [
    {
     "data": {
      "text/plain": [
       "array([[0., 0., 0., ..., 0., 0., 0.],\n",
       "       [0., 0., 0., ..., 0., 0., 1.],\n",
       "       [0., 0., 0., ..., 0., 0., 1.],\n",
       "       ...,\n",
       "       [0., 0., 0., ..., 0., 0., 1.],\n",
       "       [0., 1., 0., ..., 0., 0., 0.],\n",
       "       [0., 1., 0., ..., 0., 0., 0.]])"
      ]
     },
     "execution_count": 5,
     "metadata": {},
     "output_type": "execute_result"
    }
   ],
   "source": [
    "labels_train=[]\n",
    "for i in cls_train:\n",
    "    classes=np.zeros(10)\n",
    "    classes[i]=1\n",
    "    labels_train.append(classes)\n",
    "labels_train=np.array(labels_train)\n",
    "labels_train"
   ]
  },
  {
   "cell_type": "code",
   "execution_count": 6,
   "metadata": {},
   "outputs": [
    {
     "data": {
      "text/plain": [
       "array([[0., 0., 0., ..., 0., 0., 0.],\n",
       "       [0., 0., 0., ..., 0., 1., 0.],\n",
       "       [0., 0., 0., ..., 0., 1., 0.],\n",
       "       ...,\n",
       "       [0., 0., 0., ..., 0., 0., 0.],\n",
       "       [0., 1., 0., ..., 0., 0., 0.],\n",
       "       [0., 0., 0., ..., 1., 0., 0.]])"
      ]
     },
     "execution_count": 6,
     "metadata": {},
     "output_type": "execute_result"
    }
   ],
   "source": [
    "labels_test=[]\n",
    "for i in cls_test:\n",
    "    classes=np.zeros(10)\n",
    "    classes[i]=1\n",
    "    labels_test.append(classes)\n",
    "labels_test=np.array(labels_test)\n",
    "labels_test"
   ]
  },
  {
   "cell_type": "code",
   "execution_count": 7,
   "metadata": {},
   "outputs": [],
   "source": [
    "# import cifar10"
   ]
  },
  {
   "cell_type": "code",
   "execution_count": 8,
   "metadata": {},
   "outputs": [],
   "source": [
    "# images_train, cls_train, labels_train = cifar10.load_training_data()\n",
    "# images_test, cls_test, labels_test = cifar10.load_test_data()"
   ]
  },
  {
   "cell_type": "code",
   "execution_count": 9,
   "metadata": {},
   "outputs": [
    {
     "data": {
      "text/plain": [
       "(50000, 32, 32, 3)"
      ]
     },
     "execution_count": 9,
     "metadata": {},
     "output_type": "execute_result"
    }
   ],
   "source": [
    "images_train.shape"
   ]
  },
  {
   "cell_type": "code",
   "execution_count": 10,
   "metadata": {},
   "outputs": [
    {
     "data": {
      "text/plain": [
       "3072"
      ]
     },
     "execution_count": 10,
     "metadata": {},
     "output_type": "execute_result"
    }
   ],
   "source": [
    "32*32*3"
   ]
  },
  {
   "cell_type": "code",
   "execution_count": 11,
   "metadata": {},
   "outputs": [],
   "source": [
    "n_input=3072\n",
    "input_width=32\n",
    "input_height=32\n",
    "input_channels=3\n",
    "\n",
    "n_conv1=32\n",
    "n_conv2=64\n",
    "conv1_k=5\n",
    "conv2_k=5\n",
    "\n",
    "n_hidden=1024\n",
    "n_classes=10\n",
    "\n",
    "pooling_ws=2\n"
   ]
  },
  {
   "cell_type": "code",
   "execution_count": 12,
   "metadata": {},
   "outputs": [],
   "source": [
    "weights={\n",
    "    \n",
    "    \"c1\":tf.Variable(tf.random_normal([conv1_k,conv1_k,input_channels,n_conv1])),\n",
    "    \"c2\":tf.Variable(tf.random_normal([conv2_k,conv2_k,n_conv1,n_conv2])),\n",
    "\n",
    "    \"d1\":tf.Variable(tf.random_normal([8*8*64,n_hidden])),\n",
    "    \"out\":tf.Variable(tf.random_normal([n_hidden,n_classes]))\n",
    "       \n",
    "}\n",
    "\n",
    "biases={\n",
    "    \n",
    "    \"c1\":tf.Variable(tf.random_normal([n_conv1])),\n",
    "    \"c2\":tf.Variable(tf.random_normal([n_conv2])),\n",
    "    \"d1\":tf.Variable(tf.random_normal([n_hidden])),\n",
    "    \"out\":tf.Variable(tf.random_normal([n_classes]))\n",
    "    \n",
    "    \n",
    "}"
   ]
  },
  {
   "cell_type": "code",
   "execution_count": 13,
   "metadata": {},
   "outputs": [
    {
     "data": {
      "text/plain": [
       "(50000, 32, 32, 3)"
      ]
     },
     "execution_count": 13,
     "metadata": {},
     "output_type": "execute_result"
    }
   ],
   "source": [
    "images_train.shape"
   ]
  },
  {
   "cell_type": "code",
   "execution_count": 14,
   "metadata": {},
   "outputs": [],
   "source": [
    "conv2_out_width = input_width//(pooling_ws*pooling_ws)\n",
    "conv2_out_height = input_height//(pooling_ws*pooling_ws) \n",
    "dense_input = conv2_out_width*conv2_out_height * n_conv2"
   ]
  },
  {
   "cell_type": "code",
   "execution_count": 15,
   "metadata": {},
   "outputs": [],
   "source": [
    "def conv(x,weights,bias,stride=1):\n",
    "    #x=tf.reshape(x,shape=[50000,32,32,3])\n",
    "    conv_out = tf.nn.conv2d(x, weights, padding=\"SAME\", strides=[1,stride,stride,1])\n",
    "    \n",
    "    out = tf.nn.bias_add(conv_out, bias)\n",
    "    out = tf.nn.relu(out)\n",
    "\n",
    "    return out\n",
    "\n",
    "def maxpooling(x, k = 2):\n",
    "    return tf.nn.max_pool(x, padding=\"SAME\", ksize=[1, k, k, 1], strides = [1, k, k, 1])\n",
    "    \n",
    "    "
   ]
  },
  {
   "cell_type": "code",
   "execution_count": 16,
   "metadata": {},
   "outputs": [],
   "source": [
    "def cnn(x,weights,biases):\n",
    "\n",
    "    #x = tf.reshape(x, shape=[-1,input_width, input_height, input_channels ])\n",
    "\n",
    "    print(x.shape)\n",
    "    conv1=conv(x,weights[\"c1\"],biases[\"c1\"])\n",
    "    print(conv1.shape)\n",
    "    conv1=maxpooling(conv1,k=pooling_ws)\n",
    "    \n",
    "    conv2=conv(conv1,weights[\"c2\"],biases[\"c2\"])\n",
    "    print(conv2.shape)\n",
    "    conv2=maxpooling(conv2,k=pooling_ws)\n",
    "    \n",
    "    hidden_input=tf.reshape(conv2,shape=[-1,dense_input])\n",
    "    hidden_output = tf.add(tf.matmul(hidden_input, weights['d1']), biases['d1'])\n",
    "    hidden_output = tf.nn.relu(hidden_output)\n",
    "    \n",
    "    print(hidden_output.shape)\n",
    "    \n",
    "    in_output_layer = tf.add(tf.matmul(hidden_output, weights['out']), biases['out'])\n",
    "    output = in_output_layer\n",
    "    print(output.shape)\n",
    "    return output\n",
    "    "
   ]
  },
  {
   "cell_type": "code",
   "execution_count": 17,
   "metadata": {},
   "outputs": [],
   "source": [
    "x = tf.placeholder(\"float\", [None, 32,32,3])\n",
    "y = tf.placeholder(tf.int32, [None,10])"
   ]
  },
  {
   "cell_type": "code",
   "execution_count": 18,
   "metadata": {},
   "outputs": [
    {
     "name": "stdout",
     "output_type": "stream",
     "text": [
      "(?, 32, 32, 3)\n",
      "(?, 32, 32, 32)\n",
      "(?, 16, 16, 64)\n",
      "(?, 1024)\n",
      "(?, 10)\n"
     ]
    }
   ],
   "source": [
    "pred=cnn(x,weights,biases)"
   ]
  },
  {
   "cell_type": "code",
   "execution_count": 19,
   "metadata": {},
   "outputs": [
    {
     "name": "stdout",
     "output_type": "stream",
     "text": [
      "WARNING:tensorflow:From <ipython-input-19-5b540179457b>:1: softmax_cross_entropy_with_logits (from tensorflow.python.ops.nn_ops) is deprecated and will be removed in a future version.\n",
      "Instructions for updating:\n",
      "\n",
      "Future major versions of TensorFlow will allow gradients to flow\n",
      "into the labels input on backprop by default.\n",
      "\n",
      "See `tf.nn.softmax_cross_entropy_with_logits_v2`.\n",
      "\n"
     ]
    }
   ],
   "source": [
    "cost = tf.reduce_mean(tf.nn.softmax_cross_entropy_with_logits(logits = pred, labels = y))"
   ]
  },
  {
   "cell_type": "code",
   "execution_count": 20,
   "metadata": {},
   "outputs": [],
   "source": [
    "optimizer = tf.train.AdamOptimizer(learning_rate = 0.01)\n",
    "optimize_step = optimizer.minimize(cost)"
   ]
  },
  {
   "cell_type": "code",
   "execution_count": 21,
   "metadata": {},
   "outputs": [],
   "source": [
    "sess = tf.Session()\n",
    "sess.run(tf.global_variables_initializer())"
   ]
  },
  {
   "cell_type": "code",
   "execution_count": 23,
   "metadata": {},
   "outputs": [],
   "source": [
    "# for i in range(25):\n",
    "c, _ = sess.run([cost, optimize_step], feed_dict={x:images_train[:10], y:labels_train[:10]})"
   ]
  },
  {
   "cell_type": "code",
   "execution_count": 24,
   "metadata": {},
   "outputs": [
    {
     "data": {
      "text/plain": [
       "(50000, 32, 32, 3)"
      ]
     },
     "execution_count": 24,
     "metadata": {},
     "output_type": "execute_result"
    }
   ],
   "source": [
    "images_train.shape"
   ]
  },
  {
   "cell_type": "code",
   "execution_count": 25,
   "metadata": {},
   "outputs": [
    {
     "name": "stdout",
     "output_type": "stream",
     "text": [
      "14\n"
     ]
    }
   ],
   "source": [
    "predictions = tf.argmax(pred, axis = 1)\n",
    "actual_labels = tf.argmax(y, axis = 1)\n",
    "correct_predictions = tf.equal(predictions,actual_labels)\n",
    "\n",
    "correct_preds = sess.run(correct_predictions, feed_dict={x:images_train[:100], y:labels_train[:100]} )\n",
    "a=correct_preds.sum()\n",
    "print(a)"
   ]
  },
  {
   "cell_type": "code",
   "execution_count": 26,
   "metadata": {},
   "outputs": [
    {
     "name": "stdout",
     "output_type": "stream",
     "text": [
      "5\n"
     ]
    }
   ],
   "source": [
    "predictions = tf.argmax(pred, axis = 1)\n",
    "actual_labels = tf.argmax(y, axis = 1)\n",
    "correct_predictions = tf.equal(predictions,actual_labels)\n",
    "\n",
    "correct_preds = sess.run(correct_predictions, feed_dict={x:images_test[:100], y:labels_test[:100]} )\n",
    "a=correct_preds.sum()\n",
    "print(a)"
   ]
  },
  {
   "cell_type": "code",
   "execution_count": 27,
   "metadata": {},
   "outputs": [
    {
     "data": {
      "text/plain": [
       "0.228"
      ]
     },
     "execution_count": 27,
     "metadata": {},
     "output_type": "execute_result"
    }
   ],
   "source": [
    "228/1000"
   ]
  },
  {
   "cell_type": "code",
   "execution_count": 28,
   "metadata": {},
   "outputs": [],
   "source": [
    "import numpy as np\n",
    "\n",
    "def next_batch(data, labels,num):\n",
    "    '''\n",
    "    Return a total of `num` random samples and labels. \n",
    "    '''\n",
    "    idx = np.arange(0 , len(data))\n",
    "    np.random.shuffle(idx)\n",
    "    idx = idx[:num]\n",
    "    data_shuffle = [data[ i] for i in idx]\n",
    "    labels_shuffle = [labels[ i] for i in idx]\n",
    "\n",
    "    return np.asarray(data_shuffle), np.asarray(labels_shuffle)\n",
    "\n",
    "# Xtr, Ytr = np.arange(0, 10), np.arange(0, 100).reshape(10, 10)\n",
    "# print(Xtr)\n",
    "# print(Ytr)\n",
    "\n",
    "# Xtr, Ytr = next_batch(5, Xtr, Ytr)\n",
    "# print('\\n5 random samples')\n",
    "# print(Xtr)\n",
    "# print(Ytr)"
   ]
  },
  {
   "cell_type": "code",
   "execution_count": 29,
   "metadata": {},
   "outputs": [],
   "source": [
    "def nextbatch(x_train,y_train,batch_size,j):\n",
    "    batch_x=np.array(x_train[j*batch_size:j*batch_size+batch_size])\n",
    "    batch_y=np.array(y_train[j*batch_size:j*batch_size+11 ])\n",
    "    \n",
    "    return batch_x,batch_y\n",
    "    "
   ]
  },
  {
   "cell_type": "code",
   "execution_count": 30,
   "metadata": {},
   "outputs": [
    {
     "name": "stdout",
     "output_type": "stream",
     "text": [
      "677793115.5957241\n"
     ]
    }
   ],
   "source": [
    "batch_size = 100\n",
    "for i in range(25):\n",
    "    num_batches = int(50000/batch_size)\n",
    "    total_cost = 0\n",
    "    for j in range(num_batches):\n",
    "        batch_x, batch_y = next_batch(images_train,labels_train,batch_size) \n",
    "        c, _ = sess.run([cost, optimize_step], feed_dict={x:batch_x, y:batch_y})\n",
    "        total_cost += c\n",
    "        \n",
    "    print(total_cost)\n",
    "    break"
   ]
  },
  {
   "cell_type": "code",
   "execution_count": 31,
   "metadata": {},
   "outputs": [],
   "source": [
    "b_x, b_y = next_batch(images_train,cls_train,100)"
   ]
  },
  {
   "cell_type": "code",
   "execution_count": 32,
   "metadata": {},
   "outputs": [
    {
     "data": {
      "text/plain": [
       "((50000, 32, 32, 3), (100, 32, 32, 3))"
      ]
     },
     "execution_count": 32,
     "metadata": {},
     "output_type": "execute_result"
    }
   ],
   "source": [
    "images_train.shape,b_x.shape"
   ]
  },
  {
   "cell_type": "code",
   "execution_count": 33,
   "metadata": {},
   "outputs": [
    {
     "data": {
      "text/plain": [
       "((50000, 1), (100, 1))"
      ]
     },
     "execution_count": 33,
     "metadata": {},
     "output_type": "execute_result"
    }
   ],
   "source": [
    "cls_train.shape,b_y.shape"
   ]
  },
  {
   "cell_type": "code",
   "execution_count": null,
   "metadata": {},
   "outputs": [],
   "source": []
  }
 ],
 "metadata": {
  "kernelspec": {
   "display_name": "Python 3",
   "language": "python",
   "name": "python3"
  },
  "language_info": {
   "codemirror_mode": {
    "name": "ipython",
    "version": 3
   },
   "file_extension": ".py",
   "mimetype": "text/x-python",
   "name": "python",
   "nbconvert_exporter": "python",
   "pygments_lexer": "ipython3",
   "version": "3.6.5"
  }
 },
 "nbformat": 4,
 "nbformat_minor": 2
}
